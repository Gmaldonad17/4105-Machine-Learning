{
 "cells": [
  {
   "cell_type": "code",
   "execution_count": 1,
   "id": "3698fd43-124b-4dd7-95d8-6606ed7ddd2e",
   "metadata": {},
   "outputs": [],
   "source": [
    "import pandas as pd\n",
    "\n",
    "def createlocal_set(dataSet, x, y):\n",
    "    local_set = dataSet\n",
    "    \n",
    "    local_set['Distance'] = ((local_set['Longitude'] - x)**2 + (local_set['Latitude'] - y)**2)**(1/2)\n",
    "    local_set = local_set[local_set.Distance <= 0.01] #0.01 Original\n",
    "    \n",
    "    return local_set"
   ]
  },
  {
   "cell_type": "code",
   "execution_count": null,
   "id": "71616b2b-7b9f-46f4-ade7-46fa7037b1c1",
   "metadata": {},
   "outputs": [],
   "source": []
  }
 ],
 "metadata": {
  "kernelspec": {
   "display_name": "Python 3",
   "language": "python",
   "name": "python3"
  },
  "language_info": {
   "codemirror_mode": {
    "name": "ipython",
    "version": 3
   },
   "file_extension": ".py",
   "mimetype": "text/x-python",
   "name": "python",
   "nbconvert_exporter": "python",
   "pygments_lexer": "ipython3",
   "version": "3.8.8"
  }
 },
 "nbformat": 4,
 "nbformat_minor": 5
}
