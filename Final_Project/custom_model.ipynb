{
 "cells": [
  {
   "cell_type": "code",
   "execution_count": 1,
   "id": "c46e6b81-d357-4939-9716-0ab41e75a80b",
   "metadata": {},
   "outputs": [],
   "source": [
    "from sklearn.datasets import load_iris\n",
    "from sklearn.model_selection import train_test_split\n",
    "from sklearn.naive_bayes import GaussianNB\n",
    "from sklearn.naive_bayes import CategoricalNB\n",
    "\n",
    "from sklearn.preprocessing import StandardScaler\n",
    "from sklearn.metrics import confusion_matrix\n",
    "\n",
    "from sklearn.linear_model import LogisticRegression\n",
    "from sklearn.metrics import confusion_matrix\n",
    "\n",
    "from sklearn import metrics "
   ]
  },
  {
   "cell_type": "code",
   "execution_count": 2,
   "id": "7d054c83-6e68-4d38-bff5-3a0aeb11d726",
   "metadata": {},
   "outputs": [],
   "source": [
    "def model_predictions(data_set, cords, MF):\n",
    "    x = data_set[['Longitude', 'Latitude', 'Time', 'Distance', 'Gender', 'Victim_Age']]\n",
    "    y = data_set[['Offense']]\n",
    "    \n",
    "    sc_X = StandardScaler()\n",
    "    x = sc_X.fit_transform(x)\n",
    "\n",
    "    x_train, x_test, y_train, y_test = train_test_split(x, y, test_size = 0.20, random_state = 12)\n",
    "    \n",
    "    latlon = pd.DataFrame()\n",
    "    latlon['Longitude'] = [cords[1]]\n",
    "    latlon['Latitude'] = [cords[0]]\n",
    "    latlon['Time'] = 21.0\n",
    "    latlon['Distance'] = .01\n",
    "    latlon['Gender'] = MF\n",
    "    latlon['Victim_Age'] = 65\n",
    "    latlon = sc_X.transform(latlon)\n",
    "    \n",
    "    gnb = GaussianNB()\n",
    "    y_pred = gnb.fit(x, y.values.ravel()).predict_proba(latlon)\n",
    "    NB_y_pred = gnb.fit(x_train, y_train.values.ravel()).predict(x_test)\n",
    "    NB_matrix = confusion_matrix(y_test, NB_y_pred)\n",
    "    accuracy = metrics.accuracy_score(y_test, NB_y_pred)\n",
    "    \n",
    "    return y_pred, accuracy, NB_matrix\n",
    "    "
   ]
  },
  {
   "cell_type": "code",
   "execution_count": 3,
   "id": "407f2282-edef-4a99-8a91-3398f5d882c4",
   "metadata": {},
   "outputs": [],
   "source": [
    "#model_predictions(local_set, cords)"
   ]
  },
  {
   "cell_type": "code",
   "execution_count": null,
   "id": "642a80fc-b9b3-4751-a7aa-cb7b75e7dccc",
   "metadata": {},
   "outputs": [],
   "source": []
  },
  {
   "cell_type": "code",
   "execution_count": null,
   "id": "cc6164ce-4fb2-406e-88fa-580583fa8a7c",
   "metadata": {},
   "outputs": [],
   "source": []
  }
 ],
 "metadata": {
  "kernelspec": {
   "display_name": "Python 3",
   "language": "python",
   "name": "python3"
  },
  "language_info": {
   "codemirror_mode": {
    "name": "ipython",
    "version": 3
   },
   "file_extension": ".py",
   "mimetype": "text/x-python",
   "name": "python",
   "nbconvert_exporter": "python",
   "pygments_lexer": "ipython3",
   "version": "3.8.8"
  }
 },
 "nbformat": 4,
 "nbformat_minor": 5
}
