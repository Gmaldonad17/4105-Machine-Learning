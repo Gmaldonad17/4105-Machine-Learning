{
 "cells": [
  {
   "cell_type": "code",
   "execution_count": 1,
   "id": "c85f4ff6-8744-4b64-8101-b8a4be91e80e",
   "metadata": {},
   "outputs": [],
   "source": [
    "#Gabriel Maldonado ID: 801071135\n",
    "#Homework #3\n",
    "\n",
    "#https://github.com/Gmaldonad17/4105-Machine-Learning/tree/main/HW3"
   ]
  },
  {
   "cell_type": "code",
   "execution_count": 2,
   "id": "58effcc0-880b-4e3d-845f-bfccdd5ce9bd",
   "metadata": {},
   "outputs": [],
   "source": [
    "import numpy as np\n",
    "import matplotlib.pyplot as plt\n",
    "import pandas as pd\n",
    "from sklearn.datasets import load_breast_cancer"
   ]
  },
  {
   "cell_type": "code",
   "execution_count": 3,
   "id": "4c80ac1f-d7a3-4cfa-bdce-b6d651e450f3",
   "metadata": {},
   "outputs": [],
   "source": [
    "#Functions\n",
    "\n",
    "from sklearn.model_selection import train_test_split\n",
    "from sklearn.preprocessing import StandardScaler\n",
    "\n",
    "#Scales X variables\n",
    "def scale_x(raw_x):\n",
    "    \n",
    "    sc_x = StandardScaler()\n",
    "    scled_x = sc_x.fit_transform(raw_x)\n",
    "    return scled_x\n",
    "\n",
    "from sklearn import metrics \n",
    "\n",
    "def metrics_print(y_pred, y_test):\n",
    "    \n",
    "    print(\"Accuracy:\", metrics.accuracy_score(y_test, y_pred))\n",
    "    print(\"Precision:\", metrics.precision_score(y_test, y_pred))\n",
    "    print(\"Recall:\", metrics.recall_score(y_test, y_pred))\n",
    "\n",
    "from sklearn.metrics import confusion_matrix\n",
    "import seaborn as sns\n",
    "\n",
    "#Prints the matrix\n",
    "def matrix_print(cnf_matrix):\n",
    "    \n",
    "    class_names = [0,1]\n",
    "    fig, ax = plt.subplots()\n",
    "    tick_marks = np.arange(len(class_names))\n",
    "    plt.xticks(tick_marks, class_names)\n",
    "    plt.yticks(tick_marks, class_names)\n",
    "\n",
    "    sns.heatmap(pd.DataFrame(cnf_matrix), annot = True, cmap = \"YlGnBu\", fmt = 'g')\n",
    "    ax.xaxis.set_label_position(\"top\")\n",
    "    plt.tight_layout()\n",
    "    plt.title('Confusion matrix', y=1.1) \n",
    "    plt.ylabel('Actual label') \n",
    "    plt.xlabel('Predicted label')\n",
    "    \n",
    "from sklearn.linear_model import LogisticRegression\n",
    "\n",
    "#Creates and trains log classifer and returns the classifier and matrix evaulation\n",
    "def log_reg(raw_x, raw_y):\n",
    "    \n",
    "    #Splits the data\n",
    "    x_train, x_test, y_train, y_test = train_test_split(raw_x, breast.target, test_size = 0.20, random_state = 12)\n",
    "    \n",
    "    #Creates model for Logistic Regression in terms of the data\n",
    "    classifier = LogisticRegression()\n",
    "    classifier.fit(x_train, y_train)\n",
    "    \n",
    "    #Scoring for model\n",
    "    y_pred = classifier.predict(x_test)\n",
    "    metrics_print(y_pred, y_test)\n",
    "    \n",
    "    #Creates Logistic Regression Confusion Matrix\n",
    "    matrix = confusion_matrix(y_test, y_pred)\n",
    "    print(\"Matrix: \\n\\n\", matrix)\n",
    "    \n",
    "    return classifier, matrix\n",
    "\n",
    "from sklearn.decomposition import PCA\n",
    "\n",
    "#Creates PCA based on parameters and returns final data set\n",
    "def create_pca(scled_x, raw_y, columns, n):\n",
    "    \n",
    "    pca = PCA(n_components = n)\n",
    "    principalComponents = pca.fit_transform(scled_x) \n",
    "    principalDf = pd.DataFrame(data = principalComponents, columns = columns) \n",
    "    \n",
    "    finalDf = pd.concat([principalDf, raw_y], axis = 1)\n",
    "    return finalDf\n",
    "\n",
    "#Graphcs the first 2 Principal Components\n",
    "def graph_pca(data):\n",
    "    \n",
    "    fig = plt.figure(figsize = (8,8)) \n",
    "    ax = fig.add_subplot(1,1,1)  \n",
    "    ax.set_xlabel('Principal Component 1', fontsize = 15) \n",
    "    ax.set_ylabel('Principal Component 2', fontsize = 15) \n",
    "    ax.set_title('2 component PCA', fontsize = 20) \n",
    "    targets = ['Malignant','Benign']\n",
    "    colors = ['r', 'g', 'b'] \n",
    "    for target, color in zip(targets,colors): \n",
    "        indicesToKeep = pca_y == target \n",
    "        ax.scatter(data.loc[indicesToKeep, 'principal component 1'], data.loc[indicesToKeep, 'principal component 2'], c = color, s = 50) \n",
    "    ax.legend(targets) \n",
    "    ax.grid()\n",
    "    \n",
    "def graph_lda(LDA_t):\n",
    "    plt.xlabel('LD1')\n",
    "    plt.ylabel('LD2')\n",
    "    plt.scatter(LDA_t[:,0],LDA_t[:,0],c=breast.target,cmap='rainbow',edgecolors='r')"
   ]
  },
  {
   "cell_type": "code",
   "execution_count": 4,
   "id": "9145d3aa-906a-4893-81f5-617e48033f72",
   "metadata": {},
   "outputs": [
    {
     "data": {
      "text/html": [
       "<div>\n",
       "<style scoped>\n",
       "    .dataframe tbody tr th:only-of-type {\n",
       "        vertical-align: middle;\n",
       "    }\n",
       "\n",
       "    .dataframe tbody tr th {\n",
       "        vertical-align: top;\n",
       "    }\n",
       "\n",
       "    .dataframe thead th {\n",
       "        text-align: right;\n",
       "    }\n",
       "</style>\n",
       "<table border=\"1\" class=\"dataframe\">\n",
       "  <thead>\n",
       "    <tr style=\"text-align: right;\">\n",
       "      <th></th>\n",
       "      <th>mean radius</th>\n",
       "      <th>mean texture</th>\n",
       "      <th>mean perimeter</th>\n",
       "      <th>mean area</th>\n",
       "      <th>mean smoothness</th>\n",
       "      <th>mean compactness</th>\n",
       "      <th>mean concavity</th>\n",
       "      <th>mean concave points</th>\n",
       "      <th>mean symmetry</th>\n",
       "      <th>mean fractal dimension</th>\n",
       "      <th>...</th>\n",
       "      <th>worst texture</th>\n",
       "      <th>worst perimeter</th>\n",
       "      <th>worst area</th>\n",
       "      <th>worst smoothness</th>\n",
       "      <th>worst compactness</th>\n",
       "      <th>worst concavity</th>\n",
       "      <th>worst concave points</th>\n",
       "      <th>worst symmetry</th>\n",
       "      <th>worst fractal dimension</th>\n",
       "      <th>cancer type</th>\n",
       "    </tr>\n",
       "  </thead>\n",
       "  <tbody>\n",
       "    <tr>\n",
       "      <th>0</th>\n",
       "      <td>17.99</td>\n",
       "      <td>10.38</td>\n",
       "      <td>122.80</td>\n",
       "      <td>1001.0</td>\n",
       "      <td>0.11840</td>\n",
       "      <td>0.27760</td>\n",
       "      <td>0.3001</td>\n",
       "      <td>0.14710</td>\n",
       "      <td>0.2419</td>\n",
       "      <td>0.07871</td>\n",
       "      <td>...</td>\n",
       "      <td>17.33</td>\n",
       "      <td>184.60</td>\n",
       "      <td>2019.0</td>\n",
       "      <td>0.1622</td>\n",
       "      <td>0.6656</td>\n",
       "      <td>0.7119</td>\n",
       "      <td>0.2654</td>\n",
       "      <td>0.4601</td>\n",
       "      <td>0.11890</td>\n",
       "      <td>Benign</td>\n",
       "    </tr>\n",
       "    <tr>\n",
       "      <th>1</th>\n",
       "      <td>20.57</td>\n",
       "      <td>17.77</td>\n",
       "      <td>132.90</td>\n",
       "      <td>1326.0</td>\n",
       "      <td>0.08474</td>\n",
       "      <td>0.07864</td>\n",
       "      <td>0.0869</td>\n",
       "      <td>0.07017</td>\n",
       "      <td>0.1812</td>\n",
       "      <td>0.05667</td>\n",
       "      <td>...</td>\n",
       "      <td>23.41</td>\n",
       "      <td>158.80</td>\n",
       "      <td>1956.0</td>\n",
       "      <td>0.1238</td>\n",
       "      <td>0.1866</td>\n",
       "      <td>0.2416</td>\n",
       "      <td>0.1860</td>\n",
       "      <td>0.2750</td>\n",
       "      <td>0.08902</td>\n",
       "      <td>Benign</td>\n",
       "    </tr>\n",
       "    <tr>\n",
       "      <th>2</th>\n",
       "      <td>19.69</td>\n",
       "      <td>21.25</td>\n",
       "      <td>130.00</td>\n",
       "      <td>1203.0</td>\n",
       "      <td>0.10960</td>\n",
       "      <td>0.15990</td>\n",
       "      <td>0.1974</td>\n",
       "      <td>0.12790</td>\n",
       "      <td>0.2069</td>\n",
       "      <td>0.05999</td>\n",
       "      <td>...</td>\n",
       "      <td>25.53</td>\n",
       "      <td>152.50</td>\n",
       "      <td>1709.0</td>\n",
       "      <td>0.1444</td>\n",
       "      <td>0.4245</td>\n",
       "      <td>0.4504</td>\n",
       "      <td>0.2430</td>\n",
       "      <td>0.3613</td>\n",
       "      <td>0.08758</td>\n",
       "      <td>Benign</td>\n",
       "    </tr>\n",
       "    <tr>\n",
       "      <th>3</th>\n",
       "      <td>11.42</td>\n",
       "      <td>20.38</td>\n",
       "      <td>77.58</td>\n",
       "      <td>386.1</td>\n",
       "      <td>0.14250</td>\n",
       "      <td>0.28390</td>\n",
       "      <td>0.2414</td>\n",
       "      <td>0.10520</td>\n",
       "      <td>0.2597</td>\n",
       "      <td>0.09744</td>\n",
       "      <td>...</td>\n",
       "      <td>26.50</td>\n",
       "      <td>98.87</td>\n",
       "      <td>567.7</td>\n",
       "      <td>0.2098</td>\n",
       "      <td>0.8663</td>\n",
       "      <td>0.6869</td>\n",
       "      <td>0.2575</td>\n",
       "      <td>0.6638</td>\n",
       "      <td>0.17300</td>\n",
       "      <td>Benign</td>\n",
       "    </tr>\n",
       "    <tr>\n",
       "      <th>4</th>\n",
       "      <td>20.29</td>\n",
       "      <td>14.34</td>\n",
       "      <td>135.10</td>\n",
       "      <td>1297.0</td>\n",
       "      <td>0.10030</td>\n",
       "      <td>0.13280</td>\n",
       "      <td>0.1980</td>\n",
       "      <td>0.10430</td>\n",
       "      <td>0.1809</td>\n",
       "      <td>0.05883</td>\n",
       "      <td>...</td>\n",
       "      <td>16.67</td>\n",
       "      <td>152.20</td>\n",
       "      <td>1575.0</td>\n",
       "      <td>0.1374</td>\n",
       "      <td>0.2050</td>\n",
       "      <td>0.4000</td>\n",
       "      <td>0.1625</td>\n",
       "      <td>0.2364</td>\n",
       "      <td>0.07678</td>\n",
       "      <td>Benign</td>\n",
       "    </tr>\n",
       "  </tbody>\n",
       "</table>\n",
       "<p>5 rows × 31 columns</p>\n",
       "</div>"
      ],
      "text/plain": [
       "   mean radius  mean texture  mean perimeter  mean area  mean smoothness  \\\n",
       "0        17.99         10.38          122.80     1001.0          0.11840   \n",
       "1        20.57         17.77          132.90     1326.0          0.08474   \n",
       "2        19.69         21.25          130.00     1203.0          0.10960   \n",
       "3        11.42         20.38           77.58      386.1          0.14250   \n",
       "4        20.29         14.34          135.10     1297.0          0.10030   \n",
       "\n",
       "   mean compactness  mean concavity  mean concave points  mean symmetry  \\\n",
       "0           0.27760          0.3001              0.14710         0.2419   \n",
       "1           0.07864          0.0869              0.07017         0.1812   \n",
       "2           0.15990          0.1974              0.12790         0.2069   \n",
       "3           0.28390          0.2414              0.10520         0.2597   \n",
       "4           0.13280          0.1980              0.10430         0.1809   \n",
       "\n",
       "   mean fractal dimension  ...  worst texture  worst perimeter  worst area  \\\n",
       "0                 0.07871  ...          17.33           184.60      2019.0   \n",
       "1                 0.05667  ...          23.41           158.80      1956.0   \n",
       "2                 0.05999  ...          25.53           152.50      1709.0   \n",
       "3                 0.09744  ...          26.50            98.87       567.7   \n",
       "4                 0.05883  ...          16.67           152.20      1575.0   \n",
       "\n",
       "   worst smoothness  worst compactness  worst concavity  worst concave points  \\\n",
       "0            0.1622             0.6656           0.7119                0.2654   \n",
       "1            0.1238             0.1866           0.2416                0.1860   \n",
       "2            0.1444             0.4245           0.4504                0.2430   \n",
       "3            0.2098             0.8663           0.6869                0.2575   \n",
       "4            0.1374             0.2050           0.4000                0.1625   \n",
       "\n",
       "   worst symmetry  worst fractal dimension  cancer type  \n",
       "0          0.4601                  0.11890       Benign  \n",
       "1          0.2750                  0.08902       Benign  \n",
       "2          0.3613                  0.08758       Benign  \n",
       "3          0.6638                  0.17300       Benign  \n",
       "4          0.2364                  0.07678       Benign  \n",
       "\n",
       "[5 rows x 31 columns]"
      ]
     },
     "execution_count": 4,
     "metadata": {},
     "output_type": "execute_result"
    }
   ],
   "source": [
    "#Creating useable dataset\n",
    "\n",
    "#Raw data from the function\n",
    "breast = load_breast_cancer()\n",
    "breast_data = breast.data\n",
    "\n",
    "#Takes the inputs as well as the labels/ Target grabs labels\n",
    "breast_input = pd.DataFrame(breast_data)\n",
    "labels = breast.target \n",
    "\n",
    "#Reshapes the labels in order to place in y-axis\n",
    "labels = np.reshape(labels,(labels.size,1))\n",
    "final_breast_data = np.concatenate([breast_data,labels],axis=1)\n",
    "\n",
    "#DataFrame takes list and set into proper table\n",
    "breast_dataset = pd.DataFrame(final_breast_data)\n",
    "\n",
    "#Creates y-axis labels, adds last label \n",
    "features_x = breast.feature_names\n",
    "features_labels = np.append(features_x,'cancer type')\n",
    "#Benign = 0 | Malignant = 1\n",
    "\n",
    "#Sets y-axis to colums of the data set\n",
    "breast_dataset.columns = features_labels\n",
    "\n",
    "breast_dataset['cancer type'].replace(0, 'Benign',inplace=True) \n",
    "breast_dataset['cancer type'].replace(1, 'Malignant',inplace=True) \n",
    "breast_dataset.head()"
   ]
  },
  {
   "cell_type": "code",
   "execution_count": 5,
   "id": "84041a5c-06df-4ade-8ce9-cda15af19e60",
   "metadata": {},
   "outputs": [],
   "source": [
    "#Seperation of data as well as spliting\n",
    "\n",
    "raw_x = breast_dataset[features_x]\n",
    "raw_y = breast_dataset['cancer type']"
   ]
  },
  {
   "cell_type": "code",
   "execution_count": 6,
   "id": "5b17af2a-3deb-4ca9-a2d5-26d7ece50602",
   "metadata": {},
   "outputs": [],
   "source": [
    "#Problem 1: Logistic Regression Model"
   ]
  },
  {
   "cell_type": "code",
   "execution_count": 7,
   "id": "e1bc27e0-c82d-4d83-bf9b-66a1831da642",
   "metadata": {},
   "outputs": [
    {
     "name": "stdout",
     "output_type": "stream",
     "text": [
      "Accuracy: 0.9824561403508771\n",
      "Precision: 0.9705882352941176\n",
      "Recall: 1.0\n",
      "Matrix: \n",
      "\n",
      " [[46  2]\n",
      " [ 0 66]]\n"
     ]
    }
   ],
   "source": [
    "scled_x = scale_x(raw_x)\n",
    "\n",
    "nonPCA_classifier, nonPCA_matrix = log_reg(scled_x, raw_y)"
   ]
  },
  {
   "cell_type": "code",
   "execution_count": 8,
   "id": "a0b5dbc8-46dd-49a8-a3c1-343e2ec204e7",
   "metadata": {},
   "outputs": [
    {
     "data": {
      "image/png": "[encoded data removed]",
      "text/plain": [
       "<Figure size 432x288 with 2 Axes>"
      ]
     },
     "metadata": {
      "needs_background": "light"
     },
     "output_type": "display_data"
    }
   ],
   "source": [
    "matrix_print(nonPCA_matrix)"
   ]
  },
  {
   "cell_type": "code",
   "execution_count": 9,
   "id": "a0d3af76-8ee6-46c5-9618-11a08bc0734a",
   "metadata": {},
   "outputs": [],
   "source": [
    "#Problem 2"
   ]
  },
  {
   "cell_type": "code",
   "execution_count": 10,
   "id": "f65c65c1-5555-4195-bf71-47858b440898",
   "metadata": {},
   "outputs": [
    {
     "data": {
      "text/html": [
       "<div>\n",
       "<style scoped>\n",
       "    .dataframe tbody tr th:only-of-type {\n",
       "        vertical-align: middle;\n",
       "    }\n",
       "\n",
       "    .dataframe tbody tr th {\n",
       "        vertical-align: top;\n",
       "    }\n",
       "\n",
       "    .dataframe thead th {\n",
       "        text-align: right;\n",
       "    }\n",
       "</style>\n",
       "<table border=\"1\" class=\"dataframe\">\n",
       "  <thead>\n",
       "    <tr style=\"text-align: right;\">\n",
       "      <th></th>\n",
       "      <th>principal component 1</th>\n",
       "      <th>principal component 2</th>\n",
       "      <th>cancer type</th>\n",
       "    </tr>\n",
       "  </thead>\n",
       "  <tbody>\n",
       "    <tr>\n",
       "      <th>0</th>\n",
       "      <td>9.192837</td>\n",
       "      <td>1.948583</td>\n",
       "      <td>Benign</td>\n",
       "    </tr>\n",
       "    <tr>\n",
       "      <th>1</th>\n",
       "      <td>2.387802</td>\n",
       "      <td>-3.768172</td>\n",
       "      <td>Benign</td>\n",
       "    </tr>\n",
       "    <tr>\n",
       "      <th>2</th>\n",
       "      <td>5.733896</td>\n",
       "      <td>-1.075174</td>\n",
       "      <td>Benign</td>\n",
       "    </tr>\n",
       "    <tr>\n",
       "      <th>3</th>\n",
       "      <td>7.122953</td>\n",
       "      <td>10.275589</td>\n",
       "      <td>Benign</td>\n",
       "    </tr>\n",
       "    <tr>\n",
       "      <th>4</th>\n",
       "      <td>3.935302</td>\n",
       "      <td>-1.948072</td>\n",
       "      <td>Benign</td>\n",
       "    </tr>\n",
       "    <tr>\n",
       "      <th>...</th>\n",
       "      <td>...</td>\n",
       "      <td>...</td>\n",
       "      <td>...</td>\n",
       "    </tr>\n",
       "    <tr>\n",
       "      <th>564</th>\n",
       "      <td>6.439315</td>\n",
       "      <td>-3.576817</td>\n",
       "      <td>Benign</td>\n",
       "    </tr>\n",
       "    <tr>\n",
       "      <th>565</th>\n",
       "      <td>3.793382</td>\n",
       "      <td>-3.584048</td>\n",
       "      <td>Benign</td>\n",
       "    </tr>\n",
       "    <tr>\n",
       "      <th>566</th>\n",
       "      <td>1.256179</td>\n",
       "      <td>-1.902297</td>\n",
       "      <td>Benign</td>\n",
       "    </tr>\n",
       "    <tr>\n",
       "      <th>567</th>\n",
       "      <td>10.374794</td>\n",
       "      <td>1.672010</td>\n",
       "      <td>Benign</td>\n",
       "    </tr>\n",
       "    <tr>\n",
       "      <th>568</th>\n",
       "      <td>-5.475243</td>\n",
       "      <td>-0.670637</td>\n",
       "      <td>Malignant</td>\n",
       "    </tr>\n",
       "  </tbody>\n",
       "</table>\n",
       "<p>569 rows × 3 columns</p>\n",
       "</div>"
      ],
      "text/plain": [
       "     principal component 1  principal component 2 cancer type\n",
       "0                 9.192837               1.948583      Benign\n",
       "1                 2.387802              -3.768172      Benign\n",
       "2                 5.733896              -1.075174      Benign\n",
       "3                 7.122953              10.275589      Benign\n",
       "4                 3.935302              -1.948072      Benign\n",
       "..                     ...                    ...         ...\n",
       "564               6.439315              -3.576817      Benign\n",
       "565               3.793382              -3.584048      Benign\n",
       "566               1.256179              -1.902297      Benign\n",
       "567              10.374794               1.672010      Benign\n",
       "568              -5.475243              -0.670637   Malignant\n",
       "\n",
       "[569 rows x 3 columns]"
      ]
     },
     "execution_count": 10,
     "metadata": {},
     "output_type": "execute_result"
    }
   ],
   "source": [
    "columns = ['principal component 1', 'principal component 2']\n",
    "pca_data = create_pca(scled_x, raw_y, columns, 2)\n",
    "pca_data"
   ]
  },
  {
   "cell_type": "code",
   "execution_count": 11,
   "id": "09e2a4ef-9a81-4778-bbfa-93e7909f8bdd",
   "metadata": {},
   "outputs": [
    {
     "data": {
      "image/png": "[encoded data removed]",
      "text/plain": [
       "<Figure size 576x576 with 1 Axes>"
      ]
     },
     "metadata": {
      "needs_background": "light"
     },
     "output_type": "display_data"
    }
   ],
   "source": [
    "pca_x = pca_data[columns]\n",
    "pca_y = pca_data['cancer type']\n",
    "\n",
    "graph_pca(pca_data)"
   ]
  },
  {
   "cell_type": "code",
   "execution_count": 12,
   "id": "98fd317d-be9b-4f01-94a7-613bd27cabbf",
   "metadata": {},
   "outputs": [
    {
     "name": "stdout",
     "output_type": "stream",
     "text": [
      "Accuracy: 0.9473684210526315\n",
      "Precision: 0.9166666666666666\n",
      "Recall: 1.0\n",
      "Matrix: \n",
      "\n",
      " [[42  6]\n",
      " [ 0 66]]\n"
     ]
    }
   ],
   "source": [
    "#Two principal components\n",
    "pca_classifier, pca_matrix = log_reg(pca_x, pca_y)"
   ]
  },
  {
   "cell_type": "code",
   "execution_count": 13,
   "id": "4fff77da-de55-47cb-a6cd-642602ede5dd",
   "metadata": {},
   "outputs": [
    {
     "name": "stdout",
     "output_type": "stream",
     "text": [
      "Accuracy: 0.9385964912280702\n",
      "Precision: 0.9402985074626866\n",
      "Recall: 0.9545454545454546\n",
      "Matrix: \n",
      "\n",
      " [[44  4]\n",
      " [ 3 63]]\n"
     ]
    }
   ],
   "source": [
    "#Three principal components\n",
    "columns = ['1', '2', '3']\n",
    "pca_data = create_pca(scled_x, raw_y, columns, 3)\n",
    "\n",
    "pca_x = pca_data[columns]\n",
    "pca_y = pca_data['cancer type']\n",
    "\n",
    "pca_classifier, pca_matrix = log_reg(pca_x, pca_y)"
   ]
  },
  {
   "cell_type": "code",
   "execution_count": 14,
   "id": "7c2f674f-a7aa-4304-9b45-c76cbf3fbeb4",
   "metadata": {},
   "outputs": [
    {
     "name": "stdout",
     "output_type": "stream",
     "text": [
      "Accuracy: 0.9824561403508771\n",
      "Precision: 0.9705882352941176\n",
      "Recall: 1.0\n",
      "Matrix: \n",
      "\n",
      " [[46  2]\n",
      " [ 0 66]]\n"
     ]
    }
   ],
   "source": [
    "#Six principal components\n",
    "columns = ['1', '2', '3', '4', '5','6']\n",
    "pca_data = create_pca(scled_x, raw_y, columns, 6)\n",
    "\n",
    "pca_x = pca_data[columns]\n",
    "pca_y = pca_data['cancer type']\n",
    "\n",
    "pca_classifier, pca_matrix = log_reg(pca_x, pca_y)"
   ]
  },
  {
   "cell_type": "code",
   "execution_count": 15,
   "id": "8a9422ad-0894-458a-8036-964d2b687e17",
   "metadata": {},
   "outputs": [],
   "source": [
    "#I will be graphing the increase and then eventual decrease as you increase the pricpal componets\n",
    "#I do not have enough time. I tend to like my code to look very neat and that takes a lot of time\n",
    "#Although this does show how six prinicple compoments can have the same accuracy as 30 variables"
   ]
  },
  {
   "cell_type": "code",
   "execution_count": 16,
   "id": "2ca93fc8-3e7c-4815-b834-666400e469f3",
   "metadata": {},
   "outputs": [],
   "source": [
    "#Problem 3"
   ]
  },
  {
   "cell_type": "code",
   "execution_count": 17,
   "id": "d6601b23-8829-41d7-b5e7-f2046c6b6c0f",
   "metadata": {},
   "outputs": [
    {
     "name": "stdout",
     "output_type": "stream",
     "text": [
      "Accuracy: 0.956140350877193\n",
      "Precision: 0.9366666666666666\n",
      "Recall: 0.9964539007092199\n"
     ]
    },
    {
     "data": {
      "image/png": "[encoded data removed]",
      "text/plain": [
       "<Figure size 432x288 with 2 Axes>"
      ]
     },
     "metadata": {
      "needs_background": "light"
     },
     "output_type": "display_data"
    }
   ],
   "source": [
    "from sklearn.discriminant_analysis import LinearDiscriminantAnalysis\n",
    "\n",
    "LDA = LinearDiscriminantAnalysis(n_components=1)\n",
    "LDA_t = LDA.fit_transform(breast.data, breast.target)\n",
    "\n",
    "x_lda_train, x_lda_test, y_lda_train, y_lda_test = train_test_split(LDA_t, breast.target, test_size = 0.8)\n",
    "LDA.fit(x_lda_train, y_lda_train)\n",
    "y_pred = LDA.predict(x_lda_test)\n",
    "\n",
    "metrics_print(y_pred, y_lda_test)\n",
    "\n",
    "lda_matrix = confusion_matrix(y_lda_test, y_pred)\n",
    "\n",
    "matrix_print(lda_matrix)"
   ]
  },
  {
   "cell_type": "code",
   "execution_count": 18,
   "id": "734e993d-64a7-4793-bcc5-e908bf169f5e",
   "metadata": {},
   "outputs": [
    {
     "data": {
      "image/png": "[encoded data removed]",
      "text/plain": [
       "<Figure size 432x288 with 1 Axes>"
      ]
     },
     "metadata": {
      "needs_background": "light"
     },
     "output_type": "display_data"
    }
   ],
   "source": [
    "graph_lda(LDA_t)"
   ]
  },
  {
   "cell_type": "code",
   "execution_count": 19,
   "id": "d7bea6ee-2abb-4ee6-8505-f2c23f5cfd8c",
   "metadata": {},
   "outputs": [
    {
     "data": {
      "text/plain": [
       "GaussianNB()"
      ]
     },
     "execution_count": 19,
     "metadata": {},
     "output_type": "execute_result"
    }
   ],
   "source": [
    "from sklearn.naive_bayes import GaussianNB\n",
    "\n",
    "NB_classifier = GaussianNB()\n",
    "NB_classifier.fit(x_lda_train, y_lda_train)"
   ]
  },
  {
   "cell_type": "code",
   "execution_count": 20,
   "id": "3b1fdebd-5526-460a-9d68-602e58a5e520",
   "metadata": {},
   "outputs": [
    {
     "name": "stdout",
     "output_type": "stream",
     "text": [
      "NB_Matrix: \n",
      "\n",
      " [[164  10]\n",
      " [  3 279]]\n"
     ]
    }
   ],
   "source": [
    "#Uses the variables given from the lda to compute probablities using Naive Bayes\n",
    "\n",
    "NB_y_pred = NB_classifier.predict(x_lda_test)\n",
    "NB_matrix = confusion_matrix (y_lda_test, NB_y_pred)\n",
    "print(\"NB_Matrix: \\n\\n\", NB_matrix)"
   ]
  },
  {
   "cell_type": "code",
   "execution_count": 21,
   "id": "45759286-c226-4589-a572-a9f8b3f71dc0",
   "metadata": {},
   "outputs": [
    {
     "name": "stdout",
     "output_type": "stream",
     "text": [
      "Accuracy: 0.9714912280701754\n",
      "Precision: 0.9653979238754326\n",
      "Recall: 0.9893617021276596\n"
     ]
    }
   ],
   "source": [
    "metrics_print(NB_y_pred, y_lda_test)"
   ]
  },
  {
   "cell_type": "code",
   "execution_count": 22,
   "id": "cf3adde7-066f-42e3-b36c-c74c5db7848c",
   "metadata": {},
   "outputs": [],
   "source": [
    "#Problem 4"
   ]
  },
  {
   "cell_type": "code",
   "execution_count": 23,
   "id": "ab69702a-5c62-4498-87d3-690f999c53e2",
   "metadata": {},
   "outputs": [
    {
     "name": "stdout",
     "output_type": "stream",
     "text": [
      "Accuracy: 0.9649122807017544\n",
      "Precision: 0.9428571428571428\n",
      "Recall: 1.0\n",
      "Matrix: \n",
      "\n",
      " [[44  4]\n",
      " [ 0 66]]\n"
     ]
    }
   ],
   "source": [
    "#Uses logistic regression classifier to make predictions\n",
    "lda_classifier, lda_matrix = log_reg(LDA_t, raw_y)"
   ]
  },
  {
   "cell_type": "code",
   "execution_count": 24,
   "id": "ccd41f36-a00b-446c-abc3-cc4a35a64b43",
   "metadata": {},
   "outputs": [
    {
     "data": {
      "image/png": "[encoded data removed]",
      "text/plain": [
       "<Figure size 432x288 with 2 Axes>"
      ]
     },
     "metadata": {
      "needs_background": "light"
     },
     "output_type": "display_data"
    }
   ],
   "source": [
    "matrix_print(lda_matrix)"
   ]
  }
 ],
 "metadata": {
  "kernelspec": {
   "display_name": "Python 3",
   "language": "python",
   "name": "python3"
  },
  "language_info": {
   "codemirror_mode": {
    "name": "ipython",
    "version": 3
   },
   "file_extension": ".py",
   "mimetype": "text/x-python",
   "name": "python",
   "nbconvert_exporter": "python",
   "pygments_lexer": "ipython3",
   "version": "3.8.8"
  }
 },
 "nbformat": 4,
 "nbformat_minor": 5
}
